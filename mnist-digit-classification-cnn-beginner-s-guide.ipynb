{
 "cells": [
  {
   "cell_type": "markdown",
   "metadata": {
    "papermill": {
     "duration": 0.025893,
     "end_time": "2021-04-02T16:59:52.201525",
     "exception": false,
     "start_time": "2021-04-02T16:59:52.175632",
     "status": "completed"
    },
    "tags": []
   },
   "source": [
    "#  Práctica 6. Redes neuronales Convolucionales para clasificación\n",
    "\n",
    "Utilizar el dataset MNIST (https://www.kaggle.com/datasets/hojjatk/mnist-dataset), e implementar una red neuronal convolucional que clasifique el dataset mencionado."
   ]
  },
  {
   "cell_type": "markdown",
   "metadata": {
    "papermill": {
     "duration": 0.025702,
     "end_time": "2021-04-02T16:59:52.251711",
     "exception": false,
     "start_time": "2021-04-02T16:59:52.226009",
     "status": "completed"
    },
    "tags": []
   },
   "source": [
    "Importar modulos"
   ]
  },
  {
   "cell_type": "code",
   "execution_count": null,
   "metadata": {
    "execution": {
     "iopub.execute_input": "2021-04-02T16:59:52.309253Z",
     "iopub.status.busy": "2021-04-02T16:59:52.308267Z",
     "iopub.status.idle": "2021-04-02T16:59:53.127331Z",
     "shell.execute_reply": "2021-04-02T16:59:53.126698Z"
    },
    "papermill": {
     "duration": 0.851415,
     "end_time": "2021-04-02T16:59:53.127465",
     "exception": false,
     "start_time": "2021-04-02T16:59:52.276050",
     "status": "completed"
    },
    "tags": []
   },
   "outputs": [],
   "source": [
    "import tensorflow as tf\n",
    "import keras\n",
    "from keras import layers\n",
    "import numpy as np\n",
    "import pandas as pd\n",
    "import matplotlib.pyplot as plt\n",
    "from sklearn.model_selection import train_test_split\n",
    "from sklearn.metrics import confusion_matrix\n",
    "\n",
    "# indica que el número de canales de color se encuentra en la última dimensión de los datos.\n",
    "keras.backend.set_image_data_format('channels_last')"
   ]
  },
  {
   "cell_type": "markdown",
   "metadata": {
    "papermill": {
     "duration": 0.025107,
     "end_time": "2021-04-02T16:59:53.180544",
     "exception": false,
     "start_time": "2021-04-02T16:59:53.155437",
     "status": "completed"
    },
    "tags": []
   },
   "source": [
    "importar csvs"
   ]
  },
  {
   "cell_type": "code",
   "execution_count": null,
   "metadata": {
    "_kg_hide-input": true,
    "_kg_hide-output": true,
    "execution": {
     "iopub.execute_input": "2021-04-02T16:59:53.235413Z",
     "iopub.status.busy": "2021-04-02T16:59:53.234806Z",
     "iopub.status.idle": "2021-04-02T16:59:53.244095Z",
     "shell.execute_reply": "2021-04-02T16:59:53.243438Z"
    },
    "papermill": {
     "duration": 0.038825,
     "end_time": "2021-04-02T16:59:53.244198",
     "exception": false,
     "start_time": "2021-04-02T16:59:53.205373",
     "status": "completed"
    },
    "tags": []
   },
   "outputs": [],
   "source": [
    "for_train = pd.read_csv('./train.csv')\n",
    "for_test = pd.read_csv('./test.csv')\n",
    "\n",
    "display(\"Data entrenamiento\", for_train)\n",
    "display(\"Data tests\", for_test)\n"
   ]
  },
  {
   "cell_type": "markdown",
   "metadata": {},
   "source": [
    "Copiar datasets y trabajar con copias"
   ]
  },
  {
   "cell_type": "code",
   "execution_count": null,
   "metadata": {
    "execution": {
     "iopub.execute_input": "2021-04-02T17:00:00.214258Z",
     "iopub.status.busy": "2021-04-02T17:00:00.212660Z",
     "iopub.status.idle": "2021-04-02T17:00:00.388074Z",
     "shell.execute_reply": "2021-04-02T17:00:00.388588Z"
    },
    "papermill": {
     "duration": 0.316859,
     "end_time": "2021-04-02T17:00:00.388756",
     "exception": false,
     "start_time": "2021-04-02T17:00:00.071897",
     "status": "completed"
    },
    "tags": []
   },
   "outputs": [],
   "source": [
    "X_train = for_train.drop('label', axis=1).copy()\n",
    "X_test = for_test.copy()\n",
    "Y_train = for_train['label'].copy()"
   ]
  },
  {
   "cell_type": "code",
   "execution_count": null,
   "metadata": {
    "execution": {
     "iopub.execute_input": "2021-04-02T17:00:00.562831Z",
     "iopub.status.busy": "2021-04-02T17:00:00.561003Z",
     "iopub.status.idle": "2021-04-02T17:00:03.295198Z",
     "shell.execute_reply": "2021-04-02T17:00:03.294566Z"
    },
    "papermill": {
     "duration": 2.877748,
     "end_time": "2021-04-02T17:00:03.295368",
     "exception": false,
     "start_time": "2021-04-02T17:00:00.417620",
     "status": "completed"
    },
    "tags": []
   },
   "outputs": [],
   "source": [
    "X_train.describe()"
   ]
  },
  {
   "cell_type": "code",
   "execution_count": null,
   "metadata": {
    "execution": {
     "iopub.execute_input": "2021-04-02T17:00:03.360027Z",
     "iopub.status.busy": "2021-04-02T17:00:03.359337Z",
     "iopub.status.idle": "2021-04-02T17:00:03.559517Z",
     "shell.execute_reply": "2021-04-02T17:00:03.558449Z"
    },
    "papermill": {
     "duration": 0.234075,
     "end_time": "2021-04-02T17:00:03.559679",
     "exception": false,
     "start_time": "2021-04-02T17:00:03.325604",
     "status": "completed"
    },
    "tags": []
   },
   "outputs": [],
   "source": [
    "#para normalizar entre 0 y 255\n",
    "#siendo 255 el valor con total negro\n",
    "X_train = X_train / 255.0\n",
    "X_test = X_test / 255.0"
   ]
  },
  {
   "cell_type": "code",
   "execution_count": null,
   "metadata": {
    "execution": {
     "iopub.execute_input": "2021-04-02T17:00:03.685729Z",
     "iopub.status.busy": "2021-04-02T17:00:03.683912Z",
     "iopub.status.idle": "2021-04-02T17:00:03.686467Z",
     "shell.execute_reply": "2021-04-02T17:00:03.687046Z"
    },
    "papermill": {
     "duration": 0.039777,
     "end_time": "2021-04-02T17:00:03.687166",
     "exception": false,
     "start_time": "2021-04-02T17:00:03.647389",
     "status": "completed"
    },
    "tags": []
   },
   "outputs": [],
   "source": [
    "# Reshape para hacer cuadros de 28 * 28, y hacer mas sencillo el entrenamiento\n",
    "X_train = X_train.values.reshape(-1, 28, 28, 1)\n",
    "X_test = X_test.values.reshape(-1, 28, 28, 1)"
   ]
  },
  {
   "cell_type": "code",
   "execution_count": null,
   "metadata": {
    "_kg_hide-input": true,
    "execution": {
     "iopub.execute_input": "2021-04-02T17:00:04.471072Z",
     "iopub.status.busy": "2021-04-02T17:00:04.469799Z",
     "iopub.status.idle": "2021-04-02T17:00:04.901796Z",
     "shell.execute_reply": "2021-04-02T17:00:04.901171Z"
    },
    "papermill": {
     "duration": 0.471545,
     "end_time": "2021-04-02T17:00:04.901913",
     "exception": false,
     "start_time": "2021-04-02T17:00:04.430368",
     "status": "completed"
    },
    "tags": []
   },
   "outputs": [],
   "source": [
    "#porcentaje para validar el modelo, el resto es enternamiento\n",
    "porcentaje_para_validacion = 0.3\n",
    "\n",
    "#y usamos la func para dividir \n",
    "X_train, X_val, Y_train, Y_val = train_test_split(X_train, Y_train, test_size= porcentaje_para_validacion)"
   ]
  },
  {
   "cell_type": "code",
   "execution_count": null,
   "metadata": {
    "_kg_hide-input": true,
    "execution": {
     "iopub.execute_input": "2021-04-02T17:00:04.974905Z",
     "iopub.status.busy": "2021-04-02T17:00:04.974035Z",
     "iopub.status.idle": "2021-04-02T17:00:04.978282Z",
     "shell.execute_reply": "2021-04-02T17:00:04.977520Z"
    },
    "papermill": {
     "duration": 0.042101,
     "end_time": "2021-04-02T17:00:04.978379",
     "exception": false,
     "start_time": "2021-04-02T17:00:04.936278",
     "status": "completed"
    },
    "tags": []
   },
   "outputs": [],
   "source": [
    "#Hot encoding =  etiquetas binarias\n",
    "Y_train = keras.utils.to_categorical(Y_train, num_classes=10)\n",
    "Y_val = keras.utils.to_categorical(Y_val, num_classes=10)"
   ]
  },
  {
   "cell_type": "code",
   "execution_count": null,
   "metadata": {
    "_kg_hide-input": true,
    "execution": {
     "iopub.execute_input": "2021-04-02T17:00:05.117425Z",
     "iopub.status.busy": "2021-04-02T17:00:05.116442Z",
     "iopub.status.idle": "2021-04-02T17:00:05.119319Z",
     "shell.execute_reply": "2021-04-02T17:00:05.119932Z"
    },
    "papermill": {
     "duration": 0.048713,
     "end_time": "2021-04-02T17:00:05.120054",
     "exception": false,
     "start_time": "2021-04-02T17:00:05.071341",
     "status": "completed"
    },
    "tags": []
   },
   "outputs": [],
   "source": [
    "def RED_CNN():\n",
    "    model = keras.Sequential()\n",
    "    \n",
    "    ''' 2 capas de convolución con 32 filtros de tamaño 3x3 y un paso de desplazamiento de 1x1. Esto produce 32 mapas de características.\n",
    "    El padding se establece en 'same', lo que significa que el tamaño de la salida es el mismo que el de la entrada.\n",
    "    Una capa de normalización por lotes (Batch Normalization) para normalizar las activaciones de la capa anterior.\n",
    "    Una función de activación ReLU para introducir no linealidad en la red.\n",
    "    Una capa de Max Pooling para reducir la dimensionalidad de las características.\n",
    "    Una capa de Dropout para regularizar la red y prevenir el sobreajuste.'''\n",
    "    model.add(layers.Conv2D(32, (3, 3), (1, 1), padding='valid', input_shape=(28, 28, 1), name='conv2d_1_1'))\n",
    "    model.add(layers.Conv2D(32, (3, 3), (1, 1), padding='same', name='conv2d_1_2'))\n",
    "    model.add(layers.BatchNormalization(name='bn_1'))\n",
    "    model.add(layers.Activation('relu', name='relu_1'))\n",
    "    model.add(layers.MaxPooling2D((2, 2), (2, 2), padding='valid', name='mp2d_1'))\n",
    "    model.add(layers.Dropout(0.2, name='drop_1'))\n",
    "    \n",
    "    '''Dos capas de convolución con 64 filtros cada una.\n",
    "    Capas de Batch Normalization y activación ReLU.\n",
    "    Capas de Max Pooling y Dropout.'''\n",
    "    model.add(layers.Conv2D(64, (3, 3), (1, 1), padding='valid', name='conv2d_2_1'))\n",
    "    model.add(layers.Conv2D(64, (3, 3), (1, 1), padding='same', name='conv2d_2_2'))\n",
    "    model.add(layers.BatchNormalization(name='bn_2'))\n",
    "    model.add(layers.Activation('relu', name='relu_2'))\n",
    "    model.add(layers.MaxPooling2D((2, 2), (2, 2), padding='valid', name='mp2d_2'))\n",
    "    model.add(layers.Dropout(0.2, name='drop_2'))\n",
    "    \n",
    "    '''Una capa Flatten para aplanar las características en un solo vector.\n",
    "    Una capa densa con 100 unidades y activación ReLU.\n",
    "    Una capa de salida densa con 10 unidades y activación softmax, que se utiliza para clasificar las imágenes en 10 clases diferentes.'''\n",
    "    model.add(layers.Flatten())\n",
    "    model.add(layers.Dense(100, activation='relu'))\n",
    "    model.add(layers.Dense(10, activation='softmax'))\n",
    "    \n",
    "    return model"
   ]
  },
  {
   "cell_type": "code",
   "execution_count": null,
   "metadata": {
    "execution": {
     "iopub.execute_input": "2021-04-02T17:00:05.185640Z",
     "iopub.status.busy": "2021-04-02T17:00:05.185006Z",
     "iopub.status.idle": "2021-04-02T17:00:08.944577Z",
     "shell.execute_reply": "2021-04-02T17:00:08.945586Z"
    },
    "papermill": {
     "duration": 3.795393,
     "end_time": "2021-04-02T17:00:08.945796",
     "exception": false,
     "start_time": "2021-04-02T17:00:05.150403",
     "status": "completed"
    },
    "tags": []
   },
   "outputs": [],
   "source": [
    "modelo_CNN = RED_CNN()"
   ]
  },
  {
   "cell_type": "code",
   "execution_count": null,
   "metadata": {
    "_kg_hide-input": true,
    "_kg_hide-output": true,
    "execution": {
     "iopub.execute_input": "2021-04-02T17:00:09.149903Z",
     "iopub.status.busy": "2021-04-02T17:00:09.149068Z",
     "iopub.status.idle": "2021-04-02T17:00:09.157323Z",
     "shell.execute_reply": "2021-04-02T17:00:09.156840Z"
    },
    "papermill": {
     "duration": 0.050248,
     "end_time": "2021-04-02T17:00:09.157422",
     "exception": false,
     "start_time": "2021-04-02T17:00:09.107174",
     "status": "completed"
    },
    "tags": []
   },
   "outputs": [],
   "source": [
    "#adam como sustituto de SGD y ajuste automatico a Alfa en training\n",
    "#la perdida se calcula con ese algo para usar onehot encoding\n",
    "\n",
    "modelo_CNN.compile(optimizer='adam', loss='CategoricalCrossentropy', metrics=['accuracy'])"
   ]
  },
  {
   "cell_type": "code",
   "execution_count": null,
   "metadata": {
    "_kg_hide-input": true,
    "_kg_hide-output": true,
    "execution": {
     "iopub.execute_input": "2021-04-02T17:00:09.226931Z",
     "iopub.status.busy": "2021-04-02T17:00:09.224882Z",
     "iopub.status.idle": "2021-04-02T17:00:09.235419Z",
     "shell.execute_reply": "2021-04-02T17:00:09.236239Z"
    },
    "papermill": {
     "duration": 0.047909,
     "end_time": "2021-04-02T17:00:09.236432",
     "exception": false,
     "start_time": "2021-04-02T17:00:09.188523",
     "status": "completed"
    },
    "tags": []
   },
   "outputs": [],
   "source": [
    "modelo_CNN.summary()"
   ]
  },
  {
   "cell_type": "code",
   "execution_count": null,
   "metadata": {
    "_kg_hide-input": true,
    "_kg_hide-output": true,
    "execution": {
     "iopub.execute_input": "2021-04-02T17:00:09.378245Z",
     "iopub.status.busy": "2021-04-02T17:00:09.376175Z",
     "iopub.status.idle": "2021-04-02T17:02:50.150965Z",
     "shell.execute_reply": "2021-04-02T17:02:50.150008Z"
    },
    "papermill": {
     "duration": 160.814061,
     "end_time": "2021-04-02T17:02:50.151116",
     "exception": false,
     "start_time": "2021-04-02T17:00:09.337055",
     "status": "completed"
    },
    "tags": []
   },
   "outputs": [],
   "source": [
    "#Mi compu usa el CPU al 100% y se calienta demasiado jaja, por lo que 3 epochs es sufuciente pa lograr buen accuracy (best = 0.04)\n",
    "\n",
    "ENTRENAMIENTO = modelo_CNN.fit(X_train, Y_train, validation_data=(X_val, Y_val), batch_size=64, epochs=3, verbose=1)"
   ]
  },
  {
   "cell_type": "code",
   "execution_count": null,
   "metadata": {
    "_kg_hide-input": true,
    "execution": {
     "iopub.execute_input": "2021-04-02T17:02:56.391471Z",
     "iopub.status.busy": "2021-04-02T17:02:56.388477Z",
     "iopub.status.idle": "2021-04-02T17:02:57.024677Z",
     "shell.execute_reply": "2021-04-02T17:02:57.026124Z"
    },
    "papermill": {
     "duration": 1.585195,
     "end_time": "2021-04-02T17:02:57.026342",
     "exception": false,
     "start_time": "2021-04-02T17:02:55.441147",
     "status": "completed"
    },
    "tags": []
   },
   "outputs": [],
   "source": [
    "#val = validation\n",
    "\n",
    "plt.subplot(1, 2, 1)\n",
    "plt.plot(ENTRENAMIENTO.history['accuracy'], label='accuracy')\n",
    "plt.plot(ENTRENAMIENTO.history['val_accuracy'], label='validation_accuracy')\n",
    "plt.xlabel(\"Epochs\")\n",
    "plt.ylabel(\"Accuracy\")\n",
    "plt.legend(loc='lower right')\n",
    "\n",
    "plt.subplot(1, 2, 2)\n",
    "plt.plot(ENTRENAMIENTO.history['loss'], label='loss')\n",
    "plt.plot(ENTRENAMIENTO.history['val_loss'], label='validation_loss')\n",
    "plt.xlabel(\"Epochs\")\n",
    "plt.ylabel(\"Loss\")\n",
    "plt.legend(loc='lower right')\n",
    "\n",
    "plt.tight_layout()\n",
    "plt.show()"
   ]
  },
  {
   "cell_type": "markdown",
   "metadata": {
    "papermill": {
     "duration": 0.940633,
     "end_time": "2021-04-02T17:03:00.837428",
     "exception": false,
     "start_time": "2021-04-02T17:02:59.896795",
     "status": "completed"
    },
    "tags": []
   },
   "source": [
    "### Fase de prediccion\n",
    "\n",
    "func para checar prediccion"
   ]
  },
  {
   "cell_type": "code",
   "execution_count": null,
   "metadata": {
    "_kg_hide-input": true,
    "execution": {
     "iopub.execute_input": "2021-04-02T17:03:02.693747Z",
     "iopub.status.busy": "2021-04-02T17:03:02.692740Z",
     "iopub.status.idle": "2021-04-02T17:03:02.696350Z",
     "shell.execute_reply": "2021-04-02T17:03:02.695852Z"
    },
    "papermill": {
     "duration": 0.929444,
     "end_time": "2021-04-02T17:03:02.696458",
     "exception": false,
     "start_time": "2021-04-02T17:03:01.767014",
     "status": "completed"
    },
    "tags": []
   },
   "outputs": [],
   "source": [
    "def predict(model, X, imgs):\n",
    "    s = int(np.sqrt(imgs))\n",
    "    fig, ax = plt.subplots(s, s, sharex=True, sharey=True, figsize=(15, 15))\n",
    "    ax = ax.flatten()\n",
    "    preds = model.predict(X[:imgs])\n",
    "    for i in range(imgs):\n",
    "        y_pred = np.argmax(preds[i])\n",
    "        img = X[i].reshape(28, 28)\n",
    "        ax[i].imshow(img, cmap='Greys', interpolation='nearest')\n",
    "        ax[i].set_title(f'p: {y_pred}')"
   ]
  },
  {
   "cell_type": "code",
   "execution_count": null,
   "metadata": {
    "execution": {
     "iopub.execute_input": "2021-04-02T17:03:04.587162Z",
     "iopub.status.busy": "2021-04-02T17:03:04.586249Z",
     "iopub.status.idle": "2021-04-02T17:03:10.310145Z",
     "shell.execute_reply": "2021-04-02T17:03:10.309344Z"
    },
    "papermill": {
     "duration": 6.659746,
     "end_time": "2021-04-02T17:03:10.310309",
     "exception": false,
     "start_time": "2021-04-02T17:03:03.650563",
     "status": "completed"
    },
    "tags": []
   },
   "outputs": [],
   "source": [
    "predict(modelo_CNN, X_test, 25)"
   ]
  }
 ],
 "metadata": {
  "kernelspec": {
   "display_name": "Python 3",
   "language": "python",
   "name": "python3"
  },
  "language_info": {
   "codemirror_mode": {
    "name": "ipython",
    "version": 3
   },
   "file_extension": ".py",
   "mimetype": "text/x-python",
   "name": "python",
   "nbconvert_exporter": "python",
   "pygments_lexer": "ipython3",
   "version": "3.10.10"
  },
  "papermill": {
   "duration": 227.282556,
   "end_time": "2021-04-02T17:03:28.264943",
   "environment_variables": {},
   "exception": null,
   "input_path": "__notebook__.ipynb",
   "output_path": "__notebook__.ipynb",
   "parameters": {},
   "start_time": "2021-04-02T16:59:40.982387",
   "version": "2.1.0"
  }
 },
 "nbformat": 4,
 "nbformat_minor": 4
}
