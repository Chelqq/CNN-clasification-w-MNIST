{
 "cells": [
  {
   "cell_type": "code",
   "execution_count": 15,
   "metadata": {},
   "outputs": [],
   "source": [
    "import matplotlib.pyplot as plt\n",
    "import numpy as np\n",
    "import pandas as pd\n",
    "import tensorflow as tf\n",
    "\n",
    "from sklearn.metrics import accuracy_score, precision_score, recall_score\n",
    "from sklearn.model_selection import train_test_split\n",
    "from tensorflow.keras import layers, losses\n",
    "from tensorflow.keras.datasets import mnist\n",
    "from tensorflow.keras.models import Sequential\n",
    "\n",
    "from art import tprint "
   ]
  },
  {
   "cell_type": "code",
   "execution_count": 16,
   "metadata": {},
   "outputs": [],
   "source": [
    "# Cargar dataset MNIST\n",
    "(x_train, y_train), (x_test, y_test) = mnist.load_data()"
   ]
  },
  {
   "cell_type": "code",
   "execution_count": 17,
   "metadata": {},
   "outputs": [
    {
     "name": "stdout",
     "output_type": "stream",
     "text": [
      "(60000, 28, 28, 1)\n"
     ]
    },
    {
     "data": {
      "text/plain": [
       "'\\nConvierte los valores de los píxeles en las imágenes (originalmente en un rango de 0 a 255) a un rango de 0 a 1 dividiendo por 255.\\nAdemás, cambia el tipo de datos a float32, lo cual es más adecuado para cálculos numéricos en redes neuronales\\n\\n\\nn_samples: número de imágenes de entrenamiento.\\nheight: altura de cada imagen (p. ej., 28 para MNIST).\\nwidth: ancho de cada imagen (p. ej., 28 para MNIST).\\n1: canal de color (escala de grises).\\n'"
      ]
     },
     "execution_count": 17,
     "metadata": {},
     "output_type": "execute_result"
    }
   ],
   "source": [
    "x_train = x_train.astype('float32') / 255.\n",
    "x_test = x_test.astype('float32') / 255.\n",
    "\n",
    "x_train = x_train[..., tf.newaxis]\n",
    "x_test = x_test[..., tf.newaxis]\n",
    "\n",
    "print(x_train.shape)\n",
    "\n",
    "\"\"\"\n",
    "Convierte los valores de los píxeles en las imágenes (originalmente en un rango de 0 a 255) a un rango de 0 a 1 dividiendo por 255.\n",
    "Además, cambia el tipo de datos a float32, lo cual es más adecuado para cálculos numéricos en redes neuronales\n",
    "\n",
    "\n",
    "n_samples: número de imágenes de entrenamiento.\n",
    "height: altura de cada imagen (p. ej., 28 para MNIST).\n",
    "width: ancho de cada imagen (p. ej., 28 para MNIST).\n",
    "1: canal de color (escala de grises).\n",
    "\"\"\""
   ]
  },
  {
   "cell_type": "code",
   "execution_count": 18,
   "metadata": {},
   "outputs": [],
   "source": [
    "# Convertir etiquetas a formato categórico\n",
    "y_train = tf.keras.utils.to_categorical(y_train, 10)\n",
    "y_test = tf.keras.utils.to_categorical(y_test, 10)"
   ]
  },
  {
   "cell_type": "code",
   "execution_count": 19,
   "metadata": {},
   "outputs": [
    {
     "data": {
      "text/plain": [
       "array([[0., 0., 0., ..., 0., 0., 0.],\n",
       "       [1., 0., 0., ..., 0., 0., 0.],\n",
       "       [0., 0., 0., ..., 0., 0., 0.],\n",
       "       ...,\n",
       "       [0., 0., 0., ..., 0., 0., 0.],\n",
       "       [0., 0., 0., ..., 0., 0., 0.],\n",
       "       [0., 0., 0., ..., 0., 1., 0.]], dtype=float32)"
      ]
     },
     "execution_count": 19,
     "metadata": {},
     "output_type": "execute_result"
    }
   ],
   "source": [
    "y_train"
   ]
  },
  {
   "cell_type": "code",
   "execution_count": 20,
   "metadata": {},
   "outputs": [],
   "source": [
    "# %% Crear un modelo CNN para clasificación\n",
    "model = Sequential([\n",
    "    # Capa convolucional con 32 filtros y tamaño de kernel 3x3\n",
    "    layers.Conv2D(32, (3, 3), activation='relu', input_shape=(28, 28, 1)),\n",
    "    layers.MaxPooling2D(pool_size=(2, 2)),  # MaxPooling para reducción de dimensionalidad\n",
    "    layers.Conv2D(64, (3, 3), activation='relu'),\n",
    "    layers.MaxPooling2D(pool_size=(2, 2)),\n",
    "    layers.Conv2D(128, (3, 3), activation='relu'),\n",
    "    layers.MaxPooling2D(pool_size=(2, 2)),\n",
    "\n",
    "    # Aplanar la salida para conectarla a capas densas\n",
    "    layers.Flatten(),\n",
    "    layers.Dense(128, activation='relu'),\n",
    "    layers.Dropout(0.3),  # Dropout para evitar sobreajuste\n",
    "    layers.Dense(10, activation='softmax')  # 10 clases, función softmax para clasificación multiclase\n",
    "])"
   ]
  },
  {
   "cell_type": "markdown",
   "metadata": {},
   "source": [
    "   - **Capas Convolucionales**: Se empieza con 32 filtros en la primera capa convolucional para detectar características simples, luego se incrementa a 64 y 128 filtros para capturar características más complejas a medida que profundiza la red.\n",
    "   - **MaxPooling**: Se emplean capas de `MaxPooling2D` para reducir la resolución de las imágenes después de cada capa convolucional. Esto reduce el número de parámetros y el tiempo de computación, además de ayudar a que el modelo sea más robusto a la translación de las características.\n",
    "   - **Capa Flatten**: Después de las capas convolucionales, la salida es aplanada en un vector unidimensional para conectarse con las capas densas.\n",
    "   - **Capa Densa**: Una capa densa de 128 neuronas con activación `ReLU` se utiliza para realizar la clasificación final de los dígitos.\n",
    "   - **Capa de Salida**: La última capa densa tiene 10 neuronas, una para cada clase (dígitos del 0 al 9), con una función de activación `softmax` para obtener las probabilidades de cada clase.\n",
    "\n",
    "- **Uso de MaxPooling**: Las capas de max pooling ayudan a reducir la dimensionalidad de las características extraídas por las capas convolucionales, lo que mejora la eficiencia del modelo y lo hace menos sensible a variaciones en la posición de las características dentro de la imagen.\n",
    "- **Activación `softmax`**: La función `softmax` en la capa de salida permite que el modelo asigna probabilidades a cada una de las 10 clases posibles, lo que facilita la clasificación multiclase.\n"
   ]
  },
  {
   "cell_type": "code",
   "execution_count": 21,
   "metadata": {},
   "outputs": [
    {
     "name": "stdout",
     "output_type": "stream",
     "text": [
      "Epoch 1/3\n",
      "938/938 [==============================] - 41s 42ms/step - loss: 0.2625 - accuracy: 0.9180 - val_loss: 0.1082 - val_accuracy: 0.9698\n",
      "Epoch 2/3\n",
      "938/938 [==============================] - 40s 43ms/step - loss: 0.0873 - accuracy: 0.9738 - val_loss: 0.0594 - val_accuracy: 0.9827\n",
      "Epoch 3/3\n",
      "938/938 [==============================] - 39s 42ms/step - loss: 0.0627 - accuracy: 0.9804 - val_loss: 0.0509 - val_accuracy: 0.9843\n"
     ]
    },
    {
     "data": {
      "text/plain": [
       "<keras.src.callbacks.History at 0x1d5651ef850>"
      ]
     },
     "execution_count": 21,
     "metadata": {},
     "output_type": "execute_result"
    }
   ],
   "source": [
    "# %% Compilar el modelo\n",
    "model.compile(optimizer='adam', loss='categorical_crossentropy', metrics=['accuracy'])\n",
    "\n",
    "# %% Entrenar el modelo\n",
    "model.fit(x_train, y_train, epochs=3, batch_size=64, validation_data=(x_test, y_test))"
   ]
  },
  {
   "cell_type": "code",
   "execution_count": 22,
   "metadata": {},
   "outputs": [
    {
     "name": "stdout",
     "output_type": "stream",
     "text": [
      "313/313 [==============================] - 3s 8ms/step - loss: 0.0509 - accuracy: 0.9843\n",
      "Test accuracy: 0.9843\n"
     ]
    }
   ],
   "source": [
    "# %% Evaluar el modelo\n",
    "test_loss, test_acc = model.evaluate(x_test, y_test)\n",
    "print(f\"Test accuracy: {test_acc:.4f}\")"
   ]
  },
  {
   "cell_type": "code",
   "execution_count": 23,
   "metadata": {},
   "outputs": [
    {
     "name": "stdout",
     "output_type": "stream",
     "text": [
      "313/313 [==============================] - 3s 9ms/step\n"
     ]
    }
   ],
   "source": [
    "# %% Predicciones sobre el conjunto de prueba\n",
    "y_pred = model.predict(x_test)\n",
    "y_pred_classes = np.argmax(y_pred, axis=1)\n",
    "y_true_classes = np.argmax(y_test, axis=1)"
   ]
  },
  {
   "cell_type": "code",
   "execution_count": 24,
   "metadata": {},
   "outputs": [
    {
     "name": "stdout",
     "output_type": "stream",
     "text": [
      "    _                                                       ___       ___    ___   _  _    _____ \n",
      "   / \\     ___   ___  _   _  _ __   __ _   ___  _   _  _   / _ \\     / _ \\  ( _ ) | || |  |___ / \n",
      "  / _ \\   / __| / __|| | | || '__| / _` | / __|| | | |(_) | | | |   | (_) | / _ \\ | || |_   |_ \\ \n",
      " / ___ \\ | (__ | (__ | |_| || |   | (_| || (__ | |_| | _  | |_| | _  \\__, || (_) ||__   _| ___) |\n",
      "/_/   \\_\\ \\___| \\___| \\__,_||_|    \\__,_| \\___| \\__, |(_)  \\___/ (_)   /_/  \\___/    |_|  |____/ \n",
      "                                                |___/                                            \n",
      "\n",
      " ____                     _       _                     ___       ___    ___   _  _    _  _   \n",
      "|  _ \\  _ __   ___   ___ (_) ___ (_)  ___   _ __   _   / _ \\     / _ \\  ( _ ) | || |  | || |  \n",
      "| |_) || '__| / _ \\ / __|| |/ __|| | / _ \\ | '_ \\ (_) | | | |   | (_) | / _ \\ | || |_ | || |_ \n",
      "|  __/ | |   |  __/| (__ | |\\__ \\| || (_) || | | | _  | |_| | _  \\__, || (_) ||__   _||__   _|\n",
      "|_|    |_|    \\___| \\___||_||___/|_| \\___/ |_| |_|(_)  \\___/ (_)   /_/  \\___/    |_|     |_|  \n",
      "                                                                                              \n",
      "\n",
      " ____                      _  _       ___       ___    ___   _  _    _____ \n",
      "|  _ \\   ___   ___   __ _ | || | _   / _ \\     / _ \\  ( _ ) | || |  |___ / \n",
      "| |_) | / _ \\ / __| / _` || || |(_) | | | |   | (_) | / _ \\ | || |_   |_ \\ \n",
      "|  _ < |  __/| (__ | (_| || || | _  | |_| | _  \\__, || (_) ||__   _| ___) |\n",
      "|_| \\_\\ \\___| \\___| \\__,_||_||_|(_)  \\___/ (_)   /_/  \\___/    |_|  |____/ \n",
      "                                                                           \n",
      "\n"
     ]
    }
   ],
   "source": [
    "# %% Métricas de evaluación\n",
    "accuracy = accuracy_score(y_true_classes, y_pred_classes)\n",
    "precision = precision_score(y_true_classes, y_pred_classes, average='weighted')\n",
    "recall = recall_score(y_true_classes, y_pred_classes, average='weighted')\n",
    "\n",
    "tprint(f\"Accuracy: {accuracy:.4f}\")\n",
    "tprint(f\"Precision: {precision:.4f}\")\n",
    "tprint(f\"Recall: {recall:.4f}\")\n"
   ]
  },
  {
   "cell_type": "code",
   "execution_count": 25,
   "metadata": {
    "id": "YfIk2es3hJEd"
   },
   "outputs": [
    {
     "data": {
      "image/png": "[encoded data removed]",
      "text/plain": [
       "<Figure size 2000x200 with 10 Axes>"
      ]
     },
     "metadata": {},
     "output_type": "display_data"
    }
   ],
   "source": [
    "\n",
    "# %% Visualizar algunas predicciones\n",
    "n = 10\n",
    "plt.figure(figsize=(20, 2))\n",
    "for i in range(n):\n",
    "    ax = plt.subplot(1, n, i + 1)\n",
    "    plt.imshow(x_test[i].squeeze(), cmap='gray')\n",
    "    plt.title(f\"Pred: {y_pred_classes[i]}, True: {y_true_classes[i]}\")\n",
    "    ax.get_xaxis().set_visible(False)\n",
    "    ax.get_yaxis().set_visible(False)\n",
    "plt.show()\n"
   ]
  }
 ],
 "metadata": {
  "accelerator": "GPU",
  "colab": {
   "gpuType": "T4",
   "private_outputs": true,
   "provenance": []
  },
  "kernelspec": {
   "display_name": "Python 3",
   "language": "python",
   "name": "python3"
  },
  "language_info": {
   "codemirror_mode": {
    "name": "ipython",
    "version": 3
   },
   "file_extension": ".py",
   "mimetype": "text/x-python",
   "name": "python",
   "nbconvert_exporter": "python",
   "pygments_lexer": "ipython3",
   "version": "3.10.0"
  }
 },
 "nbformat": 4,
 "nbformat_minor": 0
}
